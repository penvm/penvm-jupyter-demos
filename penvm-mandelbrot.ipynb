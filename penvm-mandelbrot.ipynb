{
 "cells": [
  {
   "cell_type": "markdown",
   "id": "9466ed0e-9a69-449f-8ea0-4c21b1af6031",
   "metadata": {
    "tags": []
   },
   "source": [
    "# Mandelbrot Using Workers\n",
    "\n",
    "It is acknowleged that Python is typically *not* ideal for running calculation intensive workloads.\n",
    "\n",
    "The purpose is to demonstrate `Workers` running python code across a network, and to show that performance/timing numbers can be improved upon when partitioning work across multiple machines (assuming the overhead of communication, etc. is outweigh by the processing time)."
   ]
  },
  {
   "cell_type": "markdown",
   "id": "dabeec35-260b-49ec-94cc-eeea41172de1",
   "metadata": {
    "tags": []
   },
   "source": [
    "Load PENVM setup for deployed release 0.1.0."
   ]
  },
  {
   "cell_type": "code",
   "execution_count": null,
   "id": "4d1581ed-f67e-4f31-903f-0149fb105712",
   "metadata": {
    "tags": []
   },
   "outputs": [],
   "source": [
    "%run \"penvm-0.1.0-setup.ipynb\""
   ]
  },
  {
   "cell_type": "markdown",
   "id": "e6e4b8c6-dd2b-47c0-99c8-289e17b5c0b6",
   "metadata": {},
   "source": [
    "Set up World and boot \"default\" network."
   ]
  },
  {
   "cell_type": "code",
   "execution_count": null,
   "id": "449e34a8-588b-4d12-9a6e-3893fb35f066",
   "metadata": {
    "tags": []
   },
   "outputs": [],
   "source": [
    "world = World(filename=\"world-4-local.penvm\")\n",
    "network = world.get_network()\n",
    "network.boot()\n",
    "nworkers = len(network.get_machines())"
   ]
  },
  {
   "cell_type": "markdown",
   "id": "d4c2339a-682a-4cd5-8885-22ac1e26fdda",
   "metadata": {},
   "source": [
    "Add code."
   ]
  },
  {
   "cell_type": "code",
   "execution_count": null,
   "id": "20a6a56f-db27-4fbc-aeec-85ab193d3fec",
   "metadata": {
    "tags": []
   },
   "outputs": [],
   "source": [
    "#! /usr/bin/env python3\n",
    "#\n",
    "# mandelbrot.py\n",
    "\n",
    "import matplotlib.pyplot as plt\n",
    "import numpy as np\n",
    "import time\n",
    "\n",
    "from penvm.ext.workers import PythonCodeWorker\n",
    "\n",
    "import mandelbrotlib\n",
    "\n",
    "np.warnings.filterwarnings(\"ignore\")\n",
    "\n",
    "\n",
    "def show(stability):\n",
    "    plt.imshow(stability, cmap=\"plasma\")  # 20\n",
    "    plt.gca().set_aspect(\"equal\")\n",
    "    plt.axis(\"off\")\n",
    "    plt.tight_layout()\n",
    "    plt.show()\n",
    "\n",
    "\n",
    "class MandelbrotWorker(PythonCodeWorker):\n",
    "    \n",
    "    def combine(self, results):\n",
    "        return results[0] if self.nworkers == 1 else np.concatenate(results)\n",
    "\n",
    "    def partition(self, fnname, xmin, xmax, ymin, ymax, density, niterations, z, **kwargs):\n",
    "        # _density = density / nworkers\n",
    "        # vertical strips; 31-10-2014   2no change in density\n",
    "        _density = density\n",
    "        ydiff = ymax - ymin\n",
    "        ystep = ydiff / self.nworkers\n",
    "        for i in range(self.nworkers):\n",
    "            _ymin = ymin + i * ystep\n",
    "            _ymax = ymin + (i + 1) * ystep\n",
    "            yield ((fnname, xmin, xmax, _ymin, _ymax, _density, niterations, z), kwargs)\n",
    "\n",
    "    def use_fallback(self, *args, **kwargs):\n",
    "        # TODO: check against density and niterations\n",
    "        return False\n",
    "\n",
    "w = MandelbrotWorker(\n",
    "    mandelbrotlib.calculate,\n",
    "    open(\"mandelbrotlib.py\").read(),\n",
    "    network,\n",
    "    nworkers,\n",
    "    collect_response=True,\n",
    ")\n",
    "\n",
    "run = w.run\n",
    "wrun = w.wrun(\"calculate\")"
   ]
  },
  {
   "cell_type": "markdown",
   "id": "6b70c80d-d6ca-48aa-a3a1-ce21a64d1fbc",
   "metadata": {},
   "source": [
    "Note:\n",
    "\n",
    "* `w` is a `MandelbrotWorker` instance.\n",
    "* `run` is the `MandelbrotWorker.run` instance method.\n",
    "* `wrun` is a wrapped `MandelbrotWorker.run` instance method with the `fnname` provided.\n",
    "\n",
    "Whereas `run` requires explicit specification of a function name, `wrun` allows for easy, drop-in use of a client-side function name for a function that can take the expected `args` and `kwargs`."
   ]
  },
  {
   "cell_type": "markdown",
   "id": "3709e3c1-7c65-4c6d-b62e-6c5b3cc989d6",
   "metadata": {},
   "source": [
    "Run with explicit function name, and plot results"
   ]
  },
  {
   "cell_type": "code",
   "execution_count": null,
   "id": "a7e51e15-3713-4286-a256-b3520c9c566a",
   "metadata": {
    "tags": []
   },
   "outputs": [],
   "source": [
    "result = run(\"calculate\", -2, 0.5, -1.5, 1.5, 256, 100, 0)\n",
    "show(result.clip(0, 2))"
   ]
  },
  {
   "cell_type": "markdown",
   "id": "bcc6e891-96c0-416b-b2e5-f4b6bc055b5f",
   "metadata": {},
   "source": [
    "Run with wrapped function name, and plot results."
   ]
  },
  {
   "cell_type": "code",
   "execution_count": null,
   "id": "4933ed45-dd07-4fee-a400-1e18f69c3022",
   "metadata": {
    "tags": []
   },
   "outputs": [],
   "source": [
    "result = wrun(-2, 0.5, -1.5, 1.5, 256, 100, 0)\n",
    "show(result.clip(0, 2))"
   ]
  },
  {
   "cell_type": "markdown",
   "id": "9717b4ca-3432-4c2a-8381-8043c4f04e03",
   "metadata": {},
   "source": [
    "Run again with other settings. Provide elapsed time, too."
   ]
  },
  {
   "cell_type": "code",
   "execution_count": null,
   "id": "a30bf16c-4721-4b37-89fa-37bc8eb6409f",
   "metadata": {},
   "outputs": [],
   "source": [
    "t0 = time.time()\n",
    "result = wrun(-2, 0.5, -1.5, 1.5, 256, 100, 0)\n",
    "print(f\"elapsed ({time.time()-t0})\")\n",
    "show(result.clip(0, 2))"
   ]
  },
  {
   "cell_type": "code",
   "execution_count": null,
   "id": "c8d36d99-798b-49d8-a8d1-36e1c5bb29c2",
   "metadata": {},
   "outputs": [],
   "source": [
    "t0 = time.time()\n",
    "result = wrun(-2, 0.5, -1.5, 1.5, 512, 200, 0)\n",
    "print(f\"elapsed ({time.time()-t0})\")\n",
    "show(result.clip(0, 2))"
   ]
  },
  {
   "cell_type": "markdown",
   "id": "793455eb-108b-4dc9-8291-3689aa122fa8",
   "metadata": {},
   "source": [
    "Run with different `nworkers` values (with appropriate settings)."
   ]
  },
  {
   "cell_type": "code",
   "execution_count": null,
   "id": "26847655-9253-4667-8bbd-5f59e0bba6ad",
   "metadata": {},
   "outputs": [],
   "source": [
    "for i in range(1, 5):\n",
    "    w._nworkers = i\n",
    "    t0 = time.time()\n",
    "    result = wrun(-2, 0.5, -1.5, 1.5, 768, 200, 0)\n",
    "    print(f\"nworkers ({i}) elapsed ({time.time()-t0})\")\n",
    "    show(result.clip(0, 2))"
   ]
  },
  {
   "cell_type": "markdown",
   "id": "a579b8dd-9dac-4ef9-830b-1ec267bc5338",
   "metadata": {
    "tags": []
   },
   "source": [
    "Clean up."
   ]
  },
  {
   "cell_type": "code",
   "execution_count": null,
   "id": "f9025ed9-c29f-4aa2-b362-9a12c8861689",
   "metadata": {},
   "outputs": [],
   "source": [
    "world.shutdown()"
   ]
  }
 ],
 "metadata": {
  "kernelspec": {
   "display_name": "Python 3 (ipykernel)",
   "language": "python",
   "name": "python3"
  },
  "language_info": {
   "codemirror_mode": {
    "name": "ipython",
    "version": 3
   },
   "file_extension": ".py",
   "mimetype": "text/x-python",
   "name": "python",
   "nbconvert_exporter": "python",
   "pygments_lexer": "ipython3",
   "version": "3.10.6"
  }
 },
 "nbformat": 4,
 "nbformat_minor": 5
}
