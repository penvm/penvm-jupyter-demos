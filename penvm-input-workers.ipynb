{
 "cells": [
  {
   "cell_type": "markdown",
   "id": "9466ed0e-9a69-449f-8ea0-4c21b1af6031",
   "metadata": {
    "tags": []
   },
   "source": [
    "# Input Workers"
   ]
  },
  {
   "cell_type": "markdown",
   "id": "dabeec35-260b-49ec-94cc-eeea41172de1",
   "metadata": {
    "tags": []
   },
   "source": [
    "Load PENVM setup for deployed release 0.1.0."
   ]
  },
  {
   "cell_type": "code",
   "execution_count": null,
   "id": "4d1581ed-f67e-4f31-903f-0149fb105712",
   "metadata": {
    "tags": []
   },
   "outputs": [],
   "source": [
    "%run \"penvm-0.1.0-setup.ipynb\""
   ]
  },
  {
   "cell_type": "markdown",
   "id": "e6e4b8c6-dd2b-47c0-99c8-289e17b5c0b6",
   "metadata": {},
   "source": [
    "Set up World and boot \"default\" network."
   ]
  },
  {
   "cell_type": "code",
   "execution_count": null,
   "id": "449e34a8-588b-4d12-9a6e-3893fb35f066",
   "metadata": {
    "tags": []
   },
   "outputs": [],
   "source": [
    "world = World(filename=\"world-4-local.penvm\")\n",
    "network = world.get_network()\n",
    "network.boot()"
   ]
  },
  {
   "cell_type": "markdown",
   "id": "1899d2f0-5ff3-4f60-bd81-da1bf0d0b0ce",
   "metadata": {},
   "source": [
    "Load the `InputExecWorker`.\n",
    "\n",
    "An input exec worker partitions input and spawns to the network (of machines) until all input is processed."
   ]
  },
  {
   "cell_type": "code",
   "execution_count": null,
   "id": "4933ed45-dd07-4fee-a400-1e18f69c3022",
   "metadata": {
    "tags": []
   },
   "outputs": [],
   "source": [
    "from penvm.ext.workers import InputExecWorker"
   ]
  },
  {
   "cell_type": "markdown",
   "id": "5edcfd18-75fe-4c90-bb81-f12ab7fa57a8",
   "metadata": {
    "tags": []
   },
   "source": [
    "Set up data."
   ]
  },
  {
   "cell_type": "code",
   "execution_count": null,
   "id": "de10eb64-894a-4814-ab6d-078ffc655bc0",
   "metadata": {
    "tags": []
   },
   "outputs": [],
   "source": [
    "data = \"\"\"one.log\n",
    "two.txt\n",
    "three.bin\n",
    "four.log\"\"\""
   ]
  },
  {
   "cell_type": "markdown",
   "id": "b2807db8-e0bc-4dd8-9be1-aaea2fc7cbe0",
   "metadata": {
    "tags": []
   },
   "source": [
    "Set up transform string."
   ]
  },
  {
   "cell_type": "code",
   "execution_count": null,
   "id": "73449767-5040-4489-a6ae-c8cac117aa9d",
   "metadata": {},
   "outputs": [],
   "source": [
    "transformstr = '''\n",
    "n, e = f[0].rsplit(\".\", 1)\n",
    "if e == \"log\":\n",
    "    f[0] = f\"{n.upper()}.{e}\"\n",
    "elif e == \"txt\":\n",
    "    f[0] = f\"{n}.{e.upper()}\"'''"
   ]
  },
  {
   "cell_type": "markdown",
   "id": "3540b654-9642-42d4-b3c7-55b062c26282",
   "metadata": {},
   "source": [
    "Set up input directives."
   ]
  },
  {
   "cell_type": "code",
   "execution_count": null,
   "id": "79392cd8-761b-4e31-910a-63a50e6a6e48",
   "metadata": {},
   "outputs": [],
   "source": [
    "idirectives = {\n",
    "    \"data\": data,\n",
    "    \"striprsep\": True,\n",
    "    \"transform\": transformstr,\n",
    "}"
   ]
  },
  {
   "cell_type": "markdown",
   "id": "122c9df0-391d-4bee-95b7-e73f21e33011",
   "metadata": {},
   "source": [
    "Create worker."
   ]
  },
  {
   "cell_type": "code",
   "execution_count": null,
   "id": "b0b64123-183e-4a7b-bcb6-fbdfb4c1cbc9",
   "metadata": {},
   "outputs": [],
   "source": [
    "w = InputExecWorker(\"/\", network)"
   ]
  },
  {
   "cell_type": "markdown",
   "id": "f8c69d8a-a290-4ba5-91c8-b2dfeb5e4b6d",
   "metadata": {},
   "source": [
    "Dry run: test with transfrom string."
   ]
  },
  {
   "cell_type": "code",
   "execution_count": null,
   "id": "b6316134-327a-4d66-b57b-3da12ee34ef3",
   "metadata": {
    "tags": []
   },
   "outputs": [],
   "source": [
    "results = w.test(\"/bin/bash\", \"-c\", \"echo {0} >> /tmp/input.log\", _=idirectives)\n",
    "list(results)"
   ]
  },
  {
   "cell_type": "markdown",
   "id": "25d60940-54dc-4dfa-92f9-0c9db1a9f278",
   "metadata": {},
   "source": [
    "Run and show the results."
   ]
  },
  {
   "cell_type": "code",
   "execution_count": null,
   "id": "d61dfeae-2bad-4266-8380-22f402670048",
   "metadata": {
    "tags": []
   },
   "outputs": [],
   "source": [
    "results = w.run(\"/bin/bash\", \"-c\", \"echo {0}\", _=idirectives)\n",
    "results"
   ]
  },
  {
   "cell_type": "markdown",
   "id": "f08a36d8-1a52-4967-8cf7-ea0d33cf3973",
   "metadata": {},
   "source": [
    "Setup for `InputPythonCodeWorker`."
   ]
  },
  {
   "cell_type": "code",
   "execution_count": null,
   "id": "3c5d82e5-be6d-41f4-a6ae-c445e1855720",
   "metadata": {
    "tags": []
   },
   "outputs": [],
   "source": [
    "from penvm.ext.workers import InputPythonCodeWorker"
   ]
  },
  {
   "cell_type": "markdown",
   "id": "dedd106c-30b6-48df-9b62-b28c6c22451f",
   "metadata": {},
   "source": [
    "Set up code."
   ]
  },
  {
   "cell_type": "code",
   "execution_count": null,
   "id": "ef4917d0-9e19-4e18-b3ce-f29076740416",
   "metadata": {},
   "outputs": [],
   "source": [
    "codestr = \"\"\"\n",
    "def x(*args, **kwargs):\n",
    "    return (args, kwargs)\n",
    "\"\"\""
   ]
  },
  {
   "cell_type": "markdown",
   "id": "d47c0234-890e-44ab-b5a9-379b753b2e59",
   "metadata": {},
   "source": [
    "Create worker."
   ]
  },
  {
   "cell_type": "code",
   "execution_count": null,
   "id": "73ecbac5-adf4-464f-bce6-da6af0426ed4",
   "metadata": {
    "tags": []
   },
   "outputs": [],
   "source": [
    "w = InputPythonCodeWorker(None, codestr, network)"
   ]
  },
  {
   "cell_type": "markdown",
   "id": "ff619458-2b13-455e-8ab5-c27825b9416f",
   "metadata": {},
   "source": [
    "Dry run."
   ]
  },
  {
   "cell_type": "code",
   "execution_count": null,
   "id": "ba589b09-b14e-48d8-b7b6-34d357653d67",
   "metadata": {
    "tags": []
   },
   "outputs": [],
   "source": [
    "results = w.test(\"x\", \"{0}\", _=idirectives)\n",
    "list(results)"
   ]
  },
  {
   "cell_type": "markdown",
   "id": "f72cfb75-766c-4f1f-a62d-21f7e9a41e10",
   "metadata": {},
   "source": [
    "Run and show the results."
   ]
  },
  {
   "cell_type": "code",
   "execution_count": null,
   "id": "dcdbc99b-b214-4a01-b391-ed87ef0784d9",
   "metadata": {
    "tags": []
   },
   "outputs": [],
   "source": [
    "results = w.run(\"x\", \"{0}\", _=idirectives)\n",
    "results"
   ]
  },
  {
   "cell_type": "markdown",
   "id": "a70d212d-9c35-49ff-8686-d0c4240d90db",
   "metadata": {},
   "source": [
    "Clean up."
   ]
  },
  {
   "cell_type": "code",
   "execution_count": null,
   "id": "f9025ed9-c29f-4aa2-b362-9a12c8861689",
   "metadata": {},
   "outputs": [],
   "source": [
    "world.shutdown()"
   ]
  }
 ],
 "metadata": {
  "kernelspec": {
   "display_name": "Python 3 (ipykernel)",
   "language": "python",
   "name": "python3"
  },
  "language_info": {
   "codemirror_mode": {
    "name": "ipython",
    "version": 3
   },
   "file_extension": ".py",
   "mimetype": "text/x-python",
   "name": "python",
   "nbconvert_exporter": "python",
   "pygments_lexer": "ipython3",
   "version": "3.10.6"
  }
 },
 "nbformat": 4,
 "nbformat_minor": 5
}
