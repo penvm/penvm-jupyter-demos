{
 "cells": [
  {
   "cell_type": "markdown",
   "id": "b053e8e2-1fda-4072-8f34-c2c7e7a203d3",
   "metadata": {
    "tags": []
   },
   "source": [
    "# Run an Executable"
   ]
  },
  {
   "cell_type": "markdown",
   "id": "dabeec35-260b-49ec-94cc-eeea41172de1",
   "metadata": {
    "tags": []
   },
   "source": [
    "Load PENVM setup for deployed release 0.1.0."
   ]
  },
  {
   "cell_type": "code",
   "execution_count": null,
   "id": "4d1581ed-f67e-4f31-903f-0149fb105712",
   "metadata": {
    "tags": []
   },
   "outputs": [],
   "source": [
    "%run \"penvm-0.1.0-setup.ipynb\""
   ]
  },
  {
   "cell_type": "markdown",
   "id": "e6e4b8c6-dd2b-47c0-99c8-289e17b5c0b6",
   "metadata": {},
   "source": [
    "Set up World and boot \"default\" network."
   ]
  },
  {
   "cell_type": "code",
   "execution_count": null,
   "id": "449e34a8-588b-4d12-9a6e-3893fb35f066",
   "metadata": {
    "tags": []
   },
   "outputs": [],
   "source": [
    "world = World(filename=\"world-2-local.penvm\")\n",
    "network = world.get_network()\n",
    "network.boot()\n",
    "machines = network.get_machines()\n",
    "ss = [m.get_session() for m in machines]"
   ]
  },
  {
   "cell_type": "markdown",
   "id": "1899d2f0-5ff3-4f60-bd81-da1bf0d0b0ce",
   "metadata": {},
   "source": [
    "Run `hostname` on each machine."
   ]
  },
  {
   "cell_type": "code",
   "execution_count": null,
   "id": "4933ed45-dd07-4fee-a400-1e18f69c3022",
   "metadata": {
    "tags": []
   },
   "outputs": [],
   "source": [
    "_ = [s.kernel.run_exec(\"/bin/hostname\", [], capture_output=True) for s in ss]"
   ]
  },
  {
   "cell_type": "markdown",
   "id": "8eab46f2-055c-4b34-ab55-d0eb23144e68",
   "metadata": {},
   "source": [
    "Get and show responses."
   ]
  },
  {
   "cell_type": "code",
   "execution_count": null,
   "id": "ad3bc41c-ea0b-4933-aa18-49ad62fce601",
   "metadata": {
    "tags": []
   },
   "outputs": [],
   "source": [
    "resps = [s.get_response() for s in ss]\n",
    "resps"
   ]
  },
  {
   "cell_type": "markdown",
   "id": "a8ad5464-e2ed-4b48-8efc-2f0eeee24677",
   "metadata": {},
   "source": [
    "Extract results from `stdout` of the response payload."
   ]
  },
  {
   "cell_type": "code",
   "execution_count": null,
   "id": "58f919d4-3bfe-4826-8222-d2a63f2c458e",
   "metadata": {
    "tags": []
   },
   "outputs": [],
   "source": [
    "results = [resp.payload.get(\"stdout\", \"\").strip() for resp in resps]"
   ]
  },
  {
   "cell_type": "markdown",
   "id": "1be6ac14-5a35-4355-b6a2-b5b4c96d889c",
   "metadata": {},
   "source": [
    "Show results."
   ]
  },
  {
   "cell_type": "code",
   "execution_count": null,
   "id": "651f70fe-c10b-4c94-be39-d7d0f59fd44c",
   "metadata": {
    "tags": []
   },
   "outputs": [],
   "source": [
    "print(\"\\n\".join(results))"
   ]
  },
  {
   "cell_type": "markdown",
   "id": "a70d212d-9c35-49ff-8686-d0c4240d90db",
   "metadata": {},
   "source": [
    "Clean up."
   ]
  },
  {
   "cell_type": "code",
   "execution_count": null,
   "id": "f9025ed9-c29f-4aa2-b362-9a12c8861689",
   "metadata": {},
   "outputs": [],
   "source": [
    "world.shutdown()"
   ]
  },
  {
   "cell_type": "code",
   "execution_count": null,
   "id": "fdac7e12-4342-4068-bd10-614aed968c1b",
   "metadata": {},
   "outputs": [],
   "source": []
  }
 ],
 "metadata": {
  "kernelspec": {
   "display_name": "Python 3 (ipykernel)",
   "language": "python",
   "name": "python3"
  },
  "language_info": {
   "codemirror_mode": {
    "name": "ipython",
    "version": 3
   },
   "file_extension": ".py",
   "mimetype": "text/x-python",
   "name": "python",
   "nbconvert_exporter": "python",
   "pygments_lexer": "ipython3",
   "version": "3.10.6"
  }
 },
 "nbformat": 4,
 "nbformat_minor": 5
}
