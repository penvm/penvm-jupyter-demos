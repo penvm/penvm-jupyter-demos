{
 "cells": [
  {
   "cell_type": "markdown",
   "id": "2831fcd3-c817-4ed0-ab26-3c3b7e0353a7",
   "metadata": {
    "tags": []
   },
   "source": [
    "# PEVNM Machine State"
   ]
  },
  {
   "cell_type": "markdown",
   "id": "dabeec35-260b-49ec-94cc-eeea41172de1",
   "metadata": {
    "tags": []
   },
   "source": [
    "Load PENVM."
   ]
  },
  {
   "cell_type": "code",
   "execution_count": null,
   "id": "4d1581ed-f67e-4f31-903f-0149fb105712",
   "metadata": {
    "tags": []
   },
   "outputs": [],
   "source": [
    "%run \"penvm-0.1.0-setup.ipynb\""
   ]
  },
  {
   "cell_type": "markdown",
   "id": "e6e4b8c6-dd2b-47c0-99c8-289e17b5c0b6",
   "metadata": {},
   "source": [
    "Set up."
   ]
  },
  {
   "cell_type": "code",
   "execution_count": null,
   "id": "449e34a8-588b-4d12-9a6e-3893fb35f066",
   "metadata": {
    "tags": []
   },
   "outputs": [],
   "source": [
    "world = World(filename=\"world-1-local.penvm\")\n",
    "network = world.get_network()\n",
    "network.boot()\n",
    "machines = network.get_machines()\n",
    "m = machines[0]\n",
    "s = m.get_session()"
   ]
  },
  {
   "cell_type": "markdown",
   "id": "a8ad5464-e2ed-4b48-8efc-2f0eeee24677",
   "metadata": {},
   "source": [
    "Get Machine state."
   ]
  },
  {
   "cell_type": "code",
   "execution_count": null,
   "id": "58f919d4-3bfe-4826-8222-d2a63f2c458e",
   "metadata": {
    "tags": []
   },
   "outputs": [],
   "source": [
    "s.kernel.machine_get_state()\n",
    "resp = s.get_response()\n",
    "resp.payload.dict()"
   ]
  },
  {
   "cell_type": "markdown",
   "id": "ee62e5b3-a6c3-491a-8baf-8f848ef4fa2f",
   "metadata": {},
   "source": [
    "Get Session (self) state."
   ]
  },
  {
   "cell_type": "code",
   "execution_count": null,
   "id": "a9f390e4-5a29-4ce7-bd48-f5464cb754dc",
   "metadata": {
    "tags": []
   },
   "outputs": [],
   "source": [
    "s.kernel.session_get_state()\n",
    "resp = s.get_response()\n",
    "resp.payload.dict()"
   ]
  },
  {
   "cell_type": "markdown",
   "id": "ef85e168-5cb4-4df5-994f-609841557e3f",
   "metadata": {},
   "source": [
    "Get Processor state."
   ]
  },
  {
   "cell_type": "code",
   "execution_count": null,
   "id": "a82ab667-105d-4d78-869a-77641dc43bec",
   "metadata": {
    "tags": []
   },
   "outputs": [],
   "source": [
    "s.kernel.session_get_processor_state(s.oid)\n",
    "resp = s.get_response()\n",
    "resp.payload.dict()"
   ]
  },
  {
   "cell_type": "markdown",
   "id": "45f8be14-f013-47a1-9555-35fe28d10255",
   "metadata": {},
   "source": [
    "Get Kernel state."
   ]
  },
  {
   "cell_type": "code",
   "execution_count": null,
   "id": "ea46767e-316d-4960-ad5d-994bc9ea4727",
   "metadata": {
    "tags": []
   },
   "outputs": [],
   "source": [
    "s.kernel.kernel_get_state(\"default\")\n",
    "resp = s.get_response()\n",
    "resp.payload.dict()"
   ]
  },
  {
   "cell_type": "markdown",
   "id": "14ff3029-98af-4dd1-a047-f33b16d6c2f9",
   "metadata": {},
   "source": [
    "Get Store state."
   ]
  },
  {
   "cell_type": "code",
   "execution_count": null,
   "id": "df78d01f-c575-4b73-9f1f-6c5c8f456e5f",
   "metadata": {
    "tags": []
   },
   "outputs": [],
   "source": [
    "s.kernel.store_get_state()\n",
    "resp = s.get_response()\n",
    "resp.payload.dict()"
   ]
  },
  {
   "cell_type": "markdown",
   "id": "3be59481-98db-49aa-a08a-f147ae6cafe1",
   "metadata": {},
   "source": [
    "Get Machine snapshot (all state information combined)."
   ]
  },
  {
   "cell_type": "code",
   "execution_count": null,
   "id": "2848e0d5-1d04-4617-ad77-2b7766d4f9ae",
   "metadata": {
    "tags": []
   },
   "outputs": [],
   "source": [
    "s.kernel.machine_snapshot()\n",
    "resp = s.get_response()\n",
    "resp.payload.dict()"
   ]
  },
  {
   "cell_type": "markdown",
   "id": "a70d212d-9c35-49ff-8686-d0c4240d90db",
   "metadata": {},
   "source": [
    "Clean up."
   ]
  },
  {
   "cell_type": "code",
   "execution_count": null,
   "id": "f9025ed9-c29f-4aa2-b362-9a12c8861689",
   "metadata": {},
   "outputs": [],
   "source": [
    "world.shutdown()"
   ]
  }
 ],
 "metadata": {
  "kernelspec": {
   "display_name": "Python 3 (ipykernel)",
   "language": "python",
   "name": "python3"
  },
  "language_info": {
   "codemirror_mode": {
    "name": "ipython",
    "version": 3
   },
   "file_extension": ".py",
   "mimetype": "text/x-python",
   "name": "python",
   "nbconvert_exporter": "python",
   "pygments_lexer": "ipython3",
   "version": "3.10.6"
  }
 },
 "nbformat": 4,
 "nbformat_minor": 5
}
