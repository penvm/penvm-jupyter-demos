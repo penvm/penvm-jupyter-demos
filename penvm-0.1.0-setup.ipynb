{
 "cells": [
  {
   "cell_type": "code",
   "execution_count": null,
   "id": "18cfd695-80a4-4c3e-b033-2be88902c58e",
   "metadata": {},
   "outputs": [],
   "source": [
    "penvm_release = \"0.1.0\"\n",
    "print(f\"Setting up PENVM for release {penvm_release}\")\n",
    "\n",
    "import os.path\n",
    "import sys\n",
    "sys.path.insert(0, os.path.expanduser(f\"~/.penvm/releases/{penvm_release}/penvmlib-client\"))\n",
    "from penvm.client.world import World\n",
    "\n",
    "print(\"Setup complete.\")\n",
    "print(\"\"\"The \"World\" class is available.\"\"\")\n",
    "print()\n",
    "print(\"\"\"WARNING:\"\"\")\n",
    "print(\"\"\"* To release idle PENVM networks, use \"Kernel -> Restart Kernel ...\"\"\")\n",
    "print(\"\"\"* To rerun with a clean world/network, use \"Run -> Restart Kernel and Run All Cells ...\"\"\")"
   ]
  },
  {
   "cell_type": "code",
   "execution_count": null,
   "id": "9a4b31ce-1f84-490c-83a0-611bd82d9d3d",
   "metadata": {},
   "outputs": [],
   "source": []
  }
 ],
 "metadata": {
  "kernelspec": {
   "display_name": "Python 3 (ipykernel)",
   "language": "python",
   "name": "python3"
  },
  "language_info": {
   "codemirror_mode": {
    "name": "ipython",
    "version": 3
   },
   "file_extension": ".py",
   "mimetype": "text/x-python",
   "name": "python",
   "nbconvert_exporter": "python",
   "pygments_lexer": "ipython3",
   "version": "3.10.6"
  }
 },
 "nbformat": 4,
 "nbformat_minor": 5
}
