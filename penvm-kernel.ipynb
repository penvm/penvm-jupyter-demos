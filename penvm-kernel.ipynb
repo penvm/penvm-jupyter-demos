{
 "cells": [
  {
   "cell_type": "markdown",
   "id": "996e27d4-aaa8-4553-83ea-9ffe41ddc182",
   "metadata": {},
   "source": [
    "# Kernel Operations"
   ]
  },
  {
   "cell_type": "markdown",
   "id": "dabeec35-260b-49ec-94cc-eeea41172de1",
   "metadata": {
    "tags": []
   },
   "source": [
    "Load PENVM setup for deployed release 0.1.0."
   ]
  },
  {
   "cell_type": "code",
   "execution_count": null,
   "id": "4d1581ed-f67e-4f31-903f-0149fb105712",
   "metadata": {
    "tags": []
   },
   "outputs": [],
   "source": [
    "%run \"penvm-0.1.0-setup.ipynb\""
   ]
  },
  {
   "cell_type": "markdown",
   "id": "e6e4b8c6-dd2b-47c0-99c8-289e17b5c0b6",
   "metadata": {},
   "source": [
    "Set up World and boot \"default\" network."
   ]
  },
  {
   "cell_type": "code",
   "execution_count": null,
   "id": "449e34a8-588b-4d12-9a6e-3893fb35f066",
   "metadata": {
    "tags": []
   },
   "outputs": [],
   "source": [
    "world = World(filename=\"world-1-local.penvm\")\n",
    "network = world.get_network()\n",
    "network.boot()\n",
    "machines = network.get_machines()\n",
    "s = machines[0].get_session()"
   ]
  },
  {
   "cell_type": "markdown",
   "id": "a8ad5464-e2ed-4b48-8efc-2f0eeee24677",
   "metadata": {},
   "source": [
    "List available kernels."
   ]
  },
  {
   "cell_type": "code",
   "execution_count": null,
   "id": "58f919d4-3bfe-4826-8222-d2a63f2c458e",
   "metadata": {
    "tags": []
   },
   "outputs": [],
   "source": [
    "s.kernel.machine_list_kernels()\n",
    "resp = s.get_response()\n",
    "resp.payload.get(\"names\")"
   ]
  },
  {
   "cell_type": "markdown",
   "id": "1899d2f0-5ff3-4f60-bd81-da1bf0d0b0ce",
   "metadata": {},
   "source": [
    "Show kernel used by session (client-side)."
   ]
  },
  {
   "cell_type": "code",
   "execution_count": null,
   "id": "4933ed45-dd07-4fee-a400-1e18f69c3022",
   "metadata": {
    "tags": []
   },
   "outputs": [],
   "source": [
    "s.kernel"
   ]
  },
  {
   "cell_type": "markdown",
   "id": "b101a60e-2a30-4743-ba43-d394c78cf3db",
   "metadata": {},
   "source": [
    "List client-side kernel interface methods."
   ]
  },
  {
   "cell_type": "code",
   "execution_count": null,
   "id": "5fe08a37-124b-4a81-9038-5846fa47e3d4",
   "metadata": {
    "tags": []
   },
   "outputs": [],
   "source": [
    "[name for name in dir(s.kernel) if not name.startswith(\"_\")]"
   ]
  },
  {
   "cell_type": "markdown",
   "id": "8eab46f2-055c-4b34-ab55-d0eb23144e68",
   "metadata": {},
   "source": [
    "Get kernel op lists (server side)."
   ]
  },
  {
   "cell_type": "code",
   "execution_count": null,
   "id": "ad3bc41c-ea0b-4933-aa18-49ad62fce601",
   "metadata": {
    "tags": []
   },
   "outputs": [],
   "source": [
    "s.kernel.kernel_list_ops(s.kernel.name)\n",
    "resp = s.get_response()\n",
    "resp.payload.get(\"names\")"
   ]
  },
  {
   "cell_type": "markdown",
   "id": "1be6ac14-5a35-4355-b6a2-b5b4c96d889c",
   "metadata": {},
   "source": [
    "Get kernel state."
   ]
  },
  {
   "cell_type": "code",
   "execution_count": null,
   "id": "651f70fe-c10b-4c94-be39-d7d0f59fd44c",
   "metadata": {
    "tags": []
   },
   "outputs": [],
   "source": [
    "s.kernel.kernel_get_state(s.kernel.name)\n",
    "resp = s.get_response()\n",
    "resp.payload.get(\"state\")"
   ]
  },
  {
   "cell_type": "markdown",
   "id": "a1771b37-7dc1-45ec-a3ac-5e60868677ec",
   "metadata": {},
   "source": [
    "Define a new kernel op."
   ]
  },
  {
   "cell_type": "code",
   "execution_count": null,
   "id": "8450a5f8-6fbe-45d6-9bd1-e9d6c8395080",
   "metadata": {
    "tags": []
   },
   "outputs": [],
   "source": [
    "code = '''\n",
    "from penvm.kernels.base.server import Op\n",
    "from penvm.lib.message import ErrorResponse, OkResponse, Payload\n",
    "\n",
    "\n",
    "class Hello(Op):\n",
    "    \"\"\"Send \"hello\" in the `message` field in the response.\n",
    "\n",
    "    Attributes: Request:\n",
    "        -: Unused.\n",
    "\n",
    "    Attributes: OkResponse:\n",
    "        message (str): \"hello\".\n",
    "    \"\"\"\n",
    "\n",
    "    def run(self, ctxt, req):\n",
    "        try:\n",
    "            resp = OkResponse(\n",
    "                payload=Payload({\"message\": \"hello\"}),\n",
    "                refmsg=req,\n",
    "            )\n",
    "            return resp\n",
    "        except Exception as e:\n",
    "            self.logger.error(f\"{e}\")\n",
    "            return ErrorResponse(\n",
    "                \"exception {e}\",\n",
    "                refmsg=req,\n",
    "            )\n",
    "''' "
   ]
  },
  {
   "cell_type": "markdown",
   "id": "12e97331-f893-4bf9-9c61-2cda8f541275",
   "metadata": {},
   "source": [
    "Add the new kernel op to the \"default\" kernel."
   ]
  },
  {
   "cell_type": "code",
   "execution_count": null,
   "id": "164be4f5-29f7-4b2a-b235-ede6c1ea528a",
   "metadata": {
    "tags": []
   },
   "outputs": [],
   "source": [
    "_ = s.kernel.kernel_register_op(\"default\", \"hello\", \"Hello\", code)"
   ]
  },
  {
   "cell_type": "markdown",
   "id": "d591575f-9d1d-4f6b-8236-69f454d31e3c",
   "metadata": {},
   "source": [
    "Check that the new kernel op is registered."
   ]
  },
  {
   "cell_type": "code",
   "execution_count": null,
   "id": "e127b879-1f6a-4619-b2bc-dba2f43eddb1",
   "metadata": {
    "tags": []
   },
   "outputs": [],
   "source": [
    "s.kernel.kernel_list_ops(\"default\")\n",
    "resp = s.get_response()\n",
    "resp.payload.get(\"names\")"
   ]
  },
  {
   "cell_type": "markdown",
   "id": "1e6cc7e3-07ea-46fd-b283-fdd326b187ca",
   "metadata": {},
   "source": [
    "Call new kernel op.\n",
    "\n",
    "Note: Since only the server-side was added, the request needs to be crafted by hand. In this case it is simple since there are no arguments required."
   ]
  },
  {
   "cell_type": "code",
   "execution_count": null,
   "id": "f648212e-a628-42b6-a97a-d6a88c14c276",
   "metadata": {
    "tags": []
   },
   "outputs": [],
   "source": [
    "s.newput_request(\"hello\")\n",
    "resp = s.get_response()\n",
    "resp"
   ]
  },
  {
   "cell_type": "code",
   "execution_count": null,
   "id": "62a34eec-76b3-4703-97aa-062907f013e5",
   "metadata": {
    "tags": []
   },
   "outputs": [],
   "source": [
    "resp.payload.get(\"message\")"
   ]
  },
  {
   "cell_type": "markdown",
   "id": "b5360780-b47e-4727-b17c-83e668c41b81",
   "metadata": {},
   "source": [
    "Unregister the new kernel op."
   ]
  },
  {
   "cell_type": "code",
   "execution_count": null,
   "id": "94c26de1-30d8-40e4-bcad-36b5f0ea066b",
   "metadata": {
    "tags": []
   },
   "outputs": [],
   "source": [
    "_ = s.kernel.kernel_unregister_op(\"default\", \"hello\")"
   ]
  },
  {
   "cell_type": "markdown",
   "id": "68a3287f-079a-431f-a4e6-ab883d69a2b7",
   "metadata": {},
   "source": [
    "Check that the op is no longer registered."
   ]
  },
  {
   "cell_type": "code",
   "execution_count": null,
   "id": "f540aae9-7d37-4c9f-9d79-4f140aed3020",
   "metadata": {
    "tags": []
   },
   "outputs": [],
   "source": [
    "s.kernel.kernel_list_ops(\"default\")\n",
    "resp = s.get_response()\n",
    "resp.payload.get(\"names\")"
   ]
  },
  {
   "cell_type": "markdown",
   "id": "a70d212d-9c35-49ff-8686-d0c4240d90db",
   "metadata": {},
   "source": [
    "Clean up."
   ]
  },
  {
   "cell_type": "code",
   "execution_count": null,
   "id": "f9025ed9-c29f-4aa2-b362-9a12c8861689",
   "metadata": {},
   "outputs": [],
   "source": [
    "world.shutdown()"
   ]
  }
 ],
 "metadata": {
  "kernelspec": {
   "display_name": "Python 3 (ipykernel)",
   "language": "python",
   "name": "python3"
  },
  "language_info": {
   "codemirror_mode": {
    "name": "ipython",
    "version": 3
   },
   "file_extension": ".py",
   "mimetype": "text/x-python",
   "name": "python",
   "nbconvert_exporter": "python",
   "pygments_lexer": "ipython3",
   "version": "3.10.6"
  }
 },
 "nbformat": 4,
 "nbformat_minor": 5
}
