{
 "cells": [
  {
   "cell_type": "markdown",
   "id": "70b432a1-cc22-439e-ab79-fc8d51872b72",
   "metadata": {},
   "source": [
    "# Boot PENVM Network"
   ]
  },
  {
   "cell_type": "markdown",
   "id": "dabeec35-260b-49ec-94cc-eeea41172de1",
   "metadata": {
    "tags": []
   },
   "source": [
    "Load PENVM setup for deployed release 0.1.0."
   ]
  },
  {
   "cell_type": "code",
   "execution_count": null,
   "id": "4d1581ed-f67e-4f31-903f-0149fb105712",
   "metadata": {
    "tags": []
   },
   "outputs": [],
   "source": [
    "%run \"penvm-0.1.0-setup.ipynb\""
   ]
  },
  {
   "cell_type": "markdown",
   "id": "e6e4b8c6-dd2b-47c0-99c8-289e17b5c0b6",
   "metadata": {},
   "source": [
    "Set up World and boot \"default\" network."
   ]
  },
  {
   "cell_type": "code",
   "execution_count": null,
   "id": "449e34a8-588b-4d12-9a6e-3893fb35f066",
   "metadata": {
    "tags": []
   },
   "outputs": [],
   "source": [
    "world = World(filename=\"world-2-local.penvm\")\n",
    "network = world.get_network()\n",
    "network.boot()"
   ]
  },
  {
   "cell_type": "markdown",
   "id": "1899d2f0-5ff3-4f60-bd81-da1bf0d0b0ce",
   "metadata": {},
   "source": [
    "Get list of booted machines."
   ]
  },
  {
   "cell_type": "code",
   "execution_count": null,
   "id": "4933ed45-dd07-4fee-a400-1e18f69c3022",
   "metadata": {
    "tags": []
   },
   "outputs": [],
   "source": [
    "machines = network.get_machines()\n",
    "machines"
   ]
  },
  {
   "cell_type": "markdown",
   "id": "8eab46f2-055c-4b34-ab55-d0eb23144e68",
   "metadata": {},
   "source": [
    "Get session for machine 0."
   ]
  },
  {
   "cell_type": "code",
   "execution_count": null,
   "id": "ad3bc41c-ea0b-4933-aa18-49ad62fce601",
   "metadata": {
    "tags": []
   },
   "outputs": [],
   "source": [
    "m = machines[0]\n",
    "s = m.get_session()"
   ]
  },
  {
   "cell_type": "markdown",
   "id": "a8ad5464-e2ed-4b48-8efc-2f0eeee24677",
   "metadata": {},
   "source": [
    "Get Machine state (for machine 0)."
   ]
  },
  {
   "cell_type": "code",
   "execution_count": null,
   "id": "58f919d4-3bfe-4826-8222-d2a63f2c458e",
   "metadata": {
    "tags": []
   },
   "outputs": [],
   "source": [
    "s.kernel.machine_get_state()\n",
    "resp = s.get_response()"
   ]
  },
  {
   "cell_type": "markdown",
   "id": "1be6ac14-5a35-4355-b6a2-b5b4c96d889c",
   "metadata": {},
   "source": [
    "Show response object (truncated)."
   ]
  },
  {
   "cell_type": "code",
   "execution_count": null,
   "id": "651f70fe-c10b-4c94-be39-d7d0f59fd44c",
   "metadata": {
    "tags": []
   },
   "outputs": [],
   "source": [
    "resp"
   ]
  },
  {
   "cell_type": "markdown",
   "id": "a1771b37-7dc1-45ec-a3ac-5e60868677ec",
   "metadata": {},
   "source": [
    "Show response header as a dictionary."
   ]
  },
  {
   "cell_type": "code",
   "execution_count": null,
   "id": "8450a5f8-6fbe-45d6-9bd1-e9d6c8395080",
   "metadata": {
    "tags": []
   },
   "outputs": [],
   "source": [
    "resp.header.dict()"
   ]
  },
  {
   "cell_type": "markdown",
   "id": "12e97331-f893-4bf9-9c61-2cda8f541275",
   "metadata": {},
   "source": [
    "Show response payload as a dictionary."
   ]
  },
  {
   "cell_type": "code",
   "execution_count": null,
   "id": "164be4f5-29f7-4b2a-b235-ede6c1ea528a",
   "metadata": {
    "tags": []
   },
   "outputs": [],
   "source": [
    "resp.payload.dict()"
   ]
  },
  {
   "cell_type": "markdown",
   "id": "d591575f-9d1d-4f6b-8236-69f454d31e3c",
   "metadata": {},
   "source": [
    "Collect machine state for all machines."
   ]
  },
  {
   "cell_type": "code",
   "execution_count": null,
   "id": "e127b879-1f6a-4619-b2bc-dba2f43eddb1",
   "metadata": {
    "tags": []
   },
   "outputs": [],
   "source": [
    "ss = [m.get_session() for m in machines]\n",
    "[s.kernel.machine_get_state() for s in ss]\n",
    "resps = [s.get_response() for s in ss]"
   ]
  },
  {
   "cell_type": "markdown",
   "id": "1e6cc7e3-07ea-46fd-b283-fdd326b187ca",
   "metadata": {},
   "source": [
    "Show state information."
   ]
  },
  {
   "cell_type": "code",
   "execution_count": null,
   "id": "f648212e-a628-42b6-a97a-d6a88c14c276",
   "metadata": {
    "tags": []
   },
   "outputs": [],
   "source": [
    "for resp in resps:\n",
    "    print(resp.payload.dict())"
   ]
  },
  {
   "cell_type": "markdown",
   "id": "a70d212d-9c35-49ff-8686-d0c4240d90db",
   "metadata": {},
   "source": [
    "Clean up."
   ]
  },
  {
   "cell_type": "code",
   "execution_count": null,
   "id": "f9025ed9-c29f-4aa2-b362-9a12c8861689",
   "metadata": {},
   "outputs": [],
   "source": [
    "world.shutdown()"
   ]
  },
  {
   "cell_type": "code",
   "execution_count": null,
   "id": "fdac7e12-4342-4068-bd10-614aed968c1b",
   "metadata": {},
   "outputs": [],
   "source": []
  }
 ],
 "metadata": {
  "kernelspec": {
   "display_name": "Python 3 (ipykernel)",
   "language": "python",
   "name": "python3"
  },
  "language_info": {
   "codemirror_mode": {
    "name": "ipython",
    "version": 3
   },
   "file_extension": ".py",
   "mimetype": "text/x-python",
   "name": "python",
   "nbconvert_exporter": "python",
   "pygments_lexer": "ipython3",
   "version": "3.10.6"
  }
 },
 "nbformat": 4,
 "nbformat_minor": 5
}
