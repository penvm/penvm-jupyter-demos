{
 "cells": [
  {
   "cell_type": "markdown",
   "id": "f1b40aed-2d2a-4a34-a51a-8fde23e4252a",
   "metadata": {},
   "source": [
    "# Key-Value Store Operations"
   ]
  },
  {
   "cell_type": "markdown",
   "id": "dabeec35-260b-49ec-94cc-eeea41172de1",
   "metadata": {
    "tags": []
   },
   "source": [
    "Load PENVM setup for deployed release 0.1.0."
   ]
  },
  {
   "cell_type": "code",
   "execution_count": null,
   "id": "4d1581ed-f67e-4f31-903f-0149fb105712",
   "metadata": {
    "tags": []
   },
   "outputs": [],
   "source": [
    "%run \"penvm-0.1.0-setup.ipynb\""
   ]
  },
  {
   "cell_type": "markdown",
   "id": "e6e4b8c6-dd2b-47c0-99c8-289e17b5c0b6",
   "metadata": {},
   "source": [
    "Set up World and boot \"default\" network."
   ]
  },
  {
   "cell_type": "code",
   "execution_count": null,
   "id": "449e34a8-588b-4d12-9a6e-3893fb35f066",
   "metadata": {
    "tags": []
   },
   "outputs": [],
   "source": [
    "world = World(filename=\"world-2-local.penvm\")\n",
    "network = world.get_network()\n",
    "network.boot()"
   ]
  },
  {
   "cell_type": "markdown",
   "id": "1899d2f0-5ff3-4f60-bd81-da1bf0d0b0ce",
   "metadata": {},
   "source": [
    "Set up a session for each machine."
   ]
  },
  {
   "cell_type": "code",
   "execution_count": null,
   "id": "4933ed45-dd07-4fee-a400-1e18f69c3022",
   "metadata": {
    "tags": []
   },
   "outputs": [],
   "source": [
    "machines = network.get_machines()\n",
    "s0 = machines[0].get_session()\n",
    "s1 = machines[1].get_session()"
   ]
  },
  {
   "cell_type": "markdown",
   "id": "8eab46f2-055c-4b34-ab55-d0eb23144e68",
   "metadata": {},
   "source": [
    "Get store state for the respective machines.\n",
    "\n",
    "Note: Although we use a session, store information is associated with a machine *not* a session."
   ]
  },
  {
   "cell_type": "code",
   "execution_count": null,
   "id": "a6db8702-bb5e-44ff-a6cd-8da5073343c6",
   "metadata": {
    "tags": []
   },
   "outputs": [],
   "source": [
    "s0.kernel.store_get_state()\n",
    "resp0 = s0.get_response()\n",
    "resp0.payload.dict()"
   ]
  },
  {
   "cell_type": "code",
   "execution_count": null,
   "id": "b0762098-528b-4c6c-a2b3-da0ec41bde9b",
   "metadata": {
    "tags": []
   },
   "outputs": [],
   "source": [
    "s1.kernel.store_get_state()\n",
    "resp1 = s1.get_response()\n",
    "resp1.payload.dict()"
   ]
  },
  {
   "cell_type": "markdown",
   "id": "10dec6a2-ff78-4ef3-8171-fdd230d8d878",
   "metadata": {},
   "source": [
    "Get list of store items for the machines (not all state info)."
   ]
  },
  {
   "cell_type": "code",
   "execution_count": null,
   "id": "d2310f29-4a60-4ec7-b7f9-d458f6ba12b5",
   "metadata": {
    "tags": []
   },
   "outputs": [],
   "source": [
    "s0.kernel.store_list()\n",
    "resp0 = s0.get_response()\n",
    "resp0.payload.dict()"
   ]
  },
  {
   "cell_type": "code",
   "execution_count": null,
   "id": "c6884356-c12a-496a-b06a-84b14b407389",
   "metadata": {
    "tags": []
   },
   "outputs": [],
   "source": [
    "s1.kernel.store_list()\n",
    "resp1 = s1.get_response()\n",
    "resp1.payload.dict()"
   ]
  },
  {
   "cell_type": "markdown",
   "id": "983c863b-9052-4605-ab30-8b2d48312a3b",
   "metadata": {},
   "source": [
    "Add item to machine 0 store."
   ]
  },
  {
   "cell_type": "code",
   "execution_count": null,
   "id": "85f6e380-415f-4753-baa5-5e9d686e9da9",
   "metadata": {
    "tags": []
   },
   "outputs": [],
   "source": [
    "_ = s0.kernel.store_put(\"hello\", \"sunshine\")"
   ]
  },
  {
   "cell_type": "markdown",
   "id": "11bfe0c9-00f8-430c-bbbc-7ebddd737fee",
   "metadata": {},
   "source": [
    "Add item to machine 1 store"
   ]
  },
  {
   "cell_type": "code",
   "execution_count": null,
   "id": "743ade07-3392-4c32-b66d-ecf9b261ef8e",
   "metadata": {
    "tags": []
   },
   "outputs": [],
   "source": [
    "_ = s1.kernel.store_put(\"goodbye\", \"rain\")"
   ]
  },
  {
   "cell_type": "markdown",
   "id": "667e9f3f-86b0-49f9-868c-58ae24773f88",
   "metadata": {},
   "source": [
    "List store items (see `names` field in response)."
   ]
  },
  {
   "cell_type": "code",
   "execution_count": null,
   "id": "a3e0b743-6301-4fae-bebb-18d3e2c8b574",
   "metadata": {
    "tags": []
   },
   "outputs": [],
   "source": [
    "s0.kernel.store_list()\n",
    "resp0 = s0.get_response()\n",
    "resp0.payload.dict()"
   ]
  },
  {
   "cell_type": "code",
   "execution_count": null,
   "id": "f5fe8862-0d0e-4eda-8d70-96d92febb2c9",
   "metadata": {
    "tags": []
   },
   "outputs": [],
   "source": [
    "s1.kernel.store_list()\n",
    "resp1 = s1.get_response()\n",
    "resp1.payload.dict()"
   ]
  },
  {
   "cell_type": "markdown",
   "id": "13f2c14f-4cea-4779-8e74-314878bc316e",
   "metadata": {},
   "source": [
    "Drop item from session 0."
   ]
  },
  {
   "cell_type": "code",
   "execution_count": null,
   "id": "d9cf2e1c-deac-4e7f-96ad-0e17c042f4a1",
   "metadata": {
    "tags": []
   },
   "outputs": [],
   "source": [
    "_ = s0.kernel.store_drop(\"hello\")"
   ]
  },
  {
   "cell_type": "markdown",
   "id": "e991f307-c827-447f-aebf-cb60e478cc83",
   "metadata": {},
   "source": [
    "List store items from machine 0."
   ]
  },
  {
   "cell_type": "code",
   "execution_count": null,
   "id": "c230f2d6-97be-4066-979e-06c4e5ce8236",
   "metadata": {
    "tags": []
   },
   "outputs": [],
   "source": [
    "s0.kernel.store_list()\n",
    "resp0 = s0.get_response()\n",
    "resp0.payload.dict()"
   ]
  },
  {
   "cell_type": "markdown",
   "id": "bc9e92d1-de99-4bc6-994f-37b009ac2fff",
   "metadata": {},
   "source": [
    "Access the store on machine 0 using a different session."
   ]
  },
  {
   "cell_type": "code",
   "execution_count": null,
   "id": "567f3d6f-4398-4562-bc94-377f1123606f",
   "metadata": {
    "tags": []
   },
   "outputs": [],
   "source": [
    "s00 = machines[0].get_session()\n",
    "s00.kernel.store_list()\n",
    "resp00 = s00.get_response()\n",
    "resp00.payload.dict()"
   ]
  },
  {
   "cell_type": "markdown",
   "id": "a70d212d-9c35-49ff-8686-d0c4240d90db",
   "metadata": {},
   "source": [
    "Clean up."
   ]
  },
  {
   "cell_type": "code",
   "execution_count": null,
   "id": "f9025ed9-c29f-4aa2-b362-9a12c8861689",
   "metadata": {},
   "outputs": [],
   "source": [
    "world.shutdown()"
   ]
  }
 ],
 "metadata": {
  "kernelspec": {
   "display_name": "Python 3 (ipykernel)",
   "language": "python",
   "name": "python3"
  },
  "language_info": {
   "codemirror_mode": {
    "name": "ipython",
    "version": 3
   },
   "file_extension": ".py",
   "mimetype": "text/x-python",
   "name": "python",
   "nbconvert_exporter": "python",
   "pygments_lexer": "ipython3",
   "version": "3.10.6"
  }
 },
 "nbformat": 4,
 "nbformat_minor": 5
}
